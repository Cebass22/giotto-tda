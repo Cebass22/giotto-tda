{
 "cells": [
  {
   "cell_type": "code",
   "execution_count": null,
   "metadata": {},
   "outputs": [],
   "source": [
    "%load_ext autoreload\n",
    "%autoreload 2\n",
    "\n",
    "import numpy as np\n",
    "from scipy.sparse import csr_matrix\n",
    "\n",
    "from gtda.graphs import *\n",
    "from gtda.homology import *\n",
    "from gtda.diagrams import *\n",
    "\n",
    "from igraph import Graph, plot\n",
    "\n",
    "from IPython.display import SVG, display"
   ]
  },
  {
   "cell_type": "code",
   "execution_count": null,
   "metadata": {},
   "outputs": [],
   "source": [
    "def make_directed_circle_adjacency(n_vertices):\n",
    "    weights = np.ones(n_vertices)\n",
    "    rows = np.arange(n_vertices)\n",
    "    columns = np.arange(1, n_vertices + 1) % n_vertices\n",
    "    return csr_matrix((weights, (rows, columns)))\n",
    "\n",
    "n_vertices = 4\n",
    "directed_circle = make_directed_circle_adjacency(n_vertices)"
   ]
  },
  {
   "cell_type": "markdown",
   "metadata": {},
   "source": [
    "# Attempt with `FlagserPersistence`"
   ]
  },
  {
   "cell_type": "code",
   "execution_count": null,
   "metadata": {},
   "outputs": [],
   "source": [
    "row, col = directed_circle.nonzero()\n",
    "graph = Graph(n=n_vertices, edges=list(zip(row, col)), directed=True)\n",
    "# plot(graph, layout='kk')\n",
    "fname = \"graph.svg\"\n",
    "graph.write_svg(fname, layout='kk')\n",
    "display(SVG(filename=fname))"
   ]
  },
  {
   "cell_type": "code",
   "execution_count": null,
   "metadata": {
    "scrolled": true
   },
   "outputs": [],
   "source": [
    "directed_circle_gd = GraphGeodesicDistance(directed=True).fit_transform([directed_circle])\n",
    "undirected_circle_gd = GraphGeodesicDistance(directed=False).fit_transform([directed_circle])\n",
    "# graph_gd = Graph.Adjacency(directed_circle_gd[0].tolist()))\n",
    "# plot(graph_gd, layout=\"kk\")"
   ]
  },
  {
   "cell_type": "code",
   "execution_count": null,
   "metadata": {},
   "outputs": [],
   "source": [
    "FP = FlagserPersistence(directed=True)\n",
    "FP.fit_transform_plot(directed_circle_gd)"
   ]
  },
  {
   "cell_type": "code",
   "execution_count": null,
   "metadata": {},
   "outputs": [],
   "source": [
    "FP = FlagserPersistence(directed=False)  # Alternative FP = VietorisRipsPersistence(metric=\"precomputed\")\n",
    "FP.fit_transform_plot(undirected_circle_gd)"
   ]
  },
  {
   "cell_type": "code",
   "execution_count": null,
   "metadata": {},
   "outputs": [],
   "source": [
    "rows_flipped = np.concatenate([row[::2], col[1::2]])\n",
    "columns_flipped = np.concatenate([col[::2], row[1::2]])\n",
    "weights = np.ones(n_vertices)\n",
    "directed_circle_flipped = csr_matrix((weights, (rows_flipped, columns_flipped)), shape=(n_vertices, n_vertices))\n",
    "\n",
    "graph = Graph(n=n_vertices, edges=list(zip(rows_flipped, columns_flipped)), directed=True)\n",
    "# plot(graph, layout=\"kk\")\n",
    "fname = \"graph.svg\"\n",
    "graph.write_svg(fname, layout='kk')\n",
    "display(SVG(filename=fname))"
   ]
  },
  {
   "cell_type": "code",
   "execution_count": null,
   "metadata": {},
   "outputs": [],
   "source": [
    "directed_circle_flipped_gd = GraphGeodesicDistance(directed=True).fit_transform([directed_circle_flipped])\n",
    "FP = FlagserPersistence(directed=True)\n",
    "FP.fit_transform_plot(directed_circle_flipped_gd)"
   ]
  },
  {
   "cell_type": "markdown",
   "metadata": {},
   "source": [
    "# Figure-eight experiments"
   ]
  },
  {
   "cell_type": "code",
   "execution_count": null,
   "metadata": {},
   "outputs": [],
   "source": [
    "N = 10\n",
    "M = 20\n",
    "\n",
    "fig_8 = np.full((N + M - 1, N + M - 1), fill_value=np.inf)\n",
    "fig_8[range(N - 1), range(1, N)] = 1\n",
    "fig_8[N - 1, 0] = 1\n",
    "fig_8[range(N - 1, N + M - 2), range(N, N + M - 1)] = 1\n",
    "fig_8[N + M - 2, N - 1] = 1\n",
    "np.fill_diagonal(fig_8, 0)\n",
    "\n",
    "graph = Graph.Adjacency(fig_8.tolist())\n",
    "layout = graph.layout(\"kk\")\n",
    "plot(graph, layout=layout)"
   ]
  },
  {
   "cell_type": "code",
   "execution_count": null,
   "metadata": {},
   "outputs": [],
   "source": [
    "fig_8_gd = GraphGeodesicDistance(directed=True).fit_transform([fig_8])\n",
    "FP = FlagserPersistence()\n",
    "FP.fit_transform_plot(fig_8_gd);"
   ]
  },
  {
   "cell_type": "markdown",
   "metadata": {},
   "source": [
    "## Undirected case"
   ]
  },
  {
   "cell_type": "code",
   "execution_count": null,
   "metadata": {},
   "outputs": [],
   "source": [
    "N = 10\n",
    "M = 20\n",
    "\n",
    "fig_8 = np.full((N + M - 1, N + M - 1), fill_value=0)\n",
    "fig_8[range(N - 1), range(1, N)] = 1\n",
    "fig_8[N - 1, 0] = 1\n",
    "fig_8[range(N - 1, N + M - 2), range(N, N + M - 1)] = 1\n",
    "fig_8[N + M - 2, N - 1] = 1\n",
    "\n",
    "fig_8 = fig_8 + fig_8.T\n",
    "fig_8 = np.where(fig_8, fig_8 != 0, np.inf)\n",
    "\n",
    "np.fill_diagonal(fig_8, 0)\n",
    "\n",
    "graph = Graph.Adjacency(fig_8.tolist())\n",
    "layout = graph.layout(\"kk\")\n",
    "plot(graph, layout=layout)"
   ]
  },
  {
   "cell_type": "code",
   "execution_count": null,
   "metadata": {},
   "outputs": [],
   "source": [
    "fig_8_gd = GraphGeodesicDistance(directed=False).fit_transform([fig_8])\n",
    "VR = VietorisRipsPersistence(metric='precomputed')\n",
    "VR.fit_transform_plot(fig_8_gd);"
   ]
  }
 ],
 "metadata": {
  "kernelspec": {
   "display_name": "Python 3",
   "language": "python",
   "name": "python3"
  },
  "language_info": {
   "codemirror_mode": {
    "name": "ipython",
    "version": 3
   },
   "file_extension": ".py",
   "mimetype": "text/x-python",
   "name": "python",
   "nbconvert_exporter": "python",
   "pygments_lexer": "ipython3",
   "version": "3.8.2"
  }
 },
 "nbformat": 4,
 "nbformat_minor": 4
}
