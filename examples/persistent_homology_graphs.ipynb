{
 "cells": [
  {
   "cell_type": "markdown",
   "metadata": {},
   "source": [
    "# Topological feature extraction from (un)directed graphs: `VietorisRipsPersistence`, `SparseRipsPersistence` and `FlagserPersistence`\n",
    "\n",
    "`giotto-tda` allows the extraction of topological features from undirected or directed graphs represented as adjacency matrices, via the following transformers:\n",
    "\n",
    "- [`VietorisRipsPersistence`](https://giotto-ai.github.io/gtda-docs/latest/modules/generated/homology/gtda.homology.VietorisRipsPersistence.html) and [`SparseRipsPersistence`](https://giotto-ai.github.io/gtda-docs/latest/modules/generated/homology/gtda.homology.VietorisRipsPersistence.html) initialized with `metric=\"precomputed\"`, for undirected graphs;\n",
    "- [`FlagserPersistence`](https://giotto-ai.github.io/gtda-docs/latest/modules/generated/homology/gtda.homology.VietorisRipsPersistence.html) initialized with `directed=True`, for directed graphs (and with `directed=False` for undirected ones).\n",
    "\n",
    "In this notebook, we build some basic intuition on how these methods are able to capture structures and patterns from such graphs. We will focus on the multi-scale nature of the information contained in the final outputs (\"persistence diagrams\"), as well as on the differences between the undirected and directed cases. Another important point is that, although adjacency matrices of sparsely connected and even unweighted graphs can be passed directly to these transformers, they will always be interpreted as **weighted adjacency matrices** according to some not completely standard conventions. We will highlight these below.\n",
    "\n",
    "The mathematical technologies used under the hood are various flavours of \"persistent homology\" (as is also the case for [`EuclideanCechPersistence`](https://giotto-ai.github.io/gtda-docs/latest/modules/generated/homology/gtda.homology.EuclideanCechPersistence.html) and [`CubicalPersistence`](https://giotto-ai.github.io/gtda-docs/latest/modules/generated/homology/gtda.homology.CubicalPersistence.html)). If you are interested in the details, you can start from the [theory glossary](https://giotto-ai.github.io/gtda-docs/latest/theory/glossary.html) and references therein.\n",
    "\n",
    "If you are looking at a static version of this notebook and would like to run its contents, head over to [github](https://github.com/giotto-ai/giotto-tda/blob/master/examples/persistent_homology_graphs.ipynb).\n",
    "\n",
    "\n",
    "## See also\n",
    "\n",
    "- [Topological feature extraction using `VietorisRipsPersistence` and `PersistenceEntropy`](https://giotto-ai.github.io/gtda-docs/latest/notebooks/vietoris_rips_quickstart.html) which treats the \"special case\" of point clouds (see below).\n",
    "- [Plotting in `giotto-tda`](https://giotto-ai.github.io/gtda-docs/latest/notebooks/plotting_api.html), particularly Section 1.2 (as above, treats the case of point clouds).\n",
    "- [Case study: Classification of shapes](https://giotto-ai.github.io/gtda-docs/latest/notebooks/classifying_shapes.html) (a more advanced example).\n",
    "\n",
    "**License: AGPLv3**"
   ]
  },
  {
   "cell_type": "markdown",
   "metadata": {},
   "source": [
    "## Import libraries"
   ]
  },
  {
   "cell_type": "code",
   "execution_count": null,
   "metadata": {},
   "outputs": [],
   "source": [
    "import numpy as np\n",
    "from numpy.random import default_rng\n",
    "rng = default_rng(42)  # Create a random number generator\n",
    "\n",
    "from scipy.spatial.distance import pdist, squareform\n",
    "from scipy.sparse import csr_matrix\n",
    "\n",
    "from gtda.plotting import plot_diagram\n",
    "from gtda.graphs import GraphGeodesicDistance\n",
    "from gtda.homology import VietorisRipsPersistence, SparseRipsPersistence, FlagserPersistence\n",
    "\n",
    "from igraph import Graph\n",
    "\n",
    "from IPython.display import SVG, display"
   ]
  },
  {
   "cell_type": "markdown",
   "metadata": {},
   "source": [
    "## Undirected graphs – `VietorisRipsPersistence` and `SparseRipsPersistence`\n",
    "\n",
    "### Fully connected and weighted\n",
    "\n",
    "We begin with the case of fully connected and weighted (FCW) undirected graphs. The short version of the story is that if you have a collection `X` of weighted adjacency matrices (which could be sparse or dense, and possibly upper-triangular), you can instantiate tranformers of class `VietorisRipsPersistence` or `SparseRipsPersistence` by setting the parameter `metric` as `\"precomputed\"`, and then call `fit_transform` on `X` to obtain the corresponding collection of *persistence diagrams* (see below for an explanation)."
   ]
  },
  {
   "cell_type": "code",
   "execution_count": null,
   "metadata": {},
   "outputs": [],
   "source": [
    "# Start creating a single 10 x 10 weighted adjacency matrix (of a FCW graph)\n",
    "x = rng.random((10, 10))\n",
    "# Fill the diagonal with zeros (not always necessary, see below)\n",
    "np.fill_diagonal(x, 0)\n",
    "\n",
    "# Create a trivial collection of weighted adjacency matrices, containing x only\n",
    "X = [x]  # Alternative as a 3D array: X = x.reshape((1, **x.shape))\n",
    "\n",
    "# Instantiate transformers with `metric=\"precomputed\"` and default remaining parameters\n",
    "VR, SR = VietorisRipsPersistence(metric=\"precomputed\"), SparseRipsPersistence(metric=\"precomputed\", epsilon=0.1)\n",
    "\n",
    "# Compute persistence diagrams corresponding to each entry in X\n",
    "X_vr, X_sr = VR.fit_transform(X), SR.fit_transform(X)\n",
    "\n",
    "print(f\"X_vr.shape: {X_vr.shape} (16 topological features)\\nX_sr.shape: {X_sr.shape} (15 topological features)\")"
   ]
  },
  {
   "cell_type": "markdown",
   "metadata": {},
   "source": [
    "`SparseRipsPersistence` actually implements an approximate scheme for computing the same topological quantities as `VietorisRipsPersistence`, with possibly very large speedups when the inputs have large sizes. We can plot the two results:"
   ]
  },
  {
   "cell_type": "code",
   "execution_count": null,
   "metadata": {},
   "outputs": [],
   "source": [
    "sample = 0\n",
    "for transformer, output in [(VR, X_vr), (SR, X_sr)]:\n",
    "    title = f\"Persistence diagram computed from FCW graph {sample}<br>using {transformer.__class__.__name__}\"\n",
    "    VR.plot(output,\n",
    "            sample=sample,\n",
    "            plotly_params={\"layout\": {\"title\": title}}).show()"
   ]
  },
  {
   "cell_type": "markdown",
   "metadata": {},
   "source": [
    "... Not as similar as we might have hoped! This is to be expected with such a small input matrix and with the default value of `SparseRipsPersistence`'s `epsilon` parameter. But instead of trying to change things, we will leave `SparseRipsPersistence` aside for the rest of the notebook and focus on the meaning of the output in the case of `VietorisRipsPersistence`.\n",
    "\n",
    "### Non-fully connected weighted graphs\n",
    "\n",
    "In `giotto-tda`, a non-fully connected weighted graph can be represented by an adjacency matrix in one of two possible forms:\n",
    "- a dense square array with `np.inf` in position ij if the edge between vertex i and vertex j is absent.\n",
    "- a sparse matrix in which the non-stored edge weights represent absent edges.\n",
    "\n",
    "**Important notes**\n",
    "- A `0` in a dense array, or an explicitly stored `0` in a sparse matrix, does *not* denote an absent edge. It denotes an edge with weight 0, which, in a sense, means the complete opposite! See the section ***Understanding the computation*** below.\n",
    "- Dense Boolean arrays are first converted to numerical ones and then interpreted as adjacency matrices of FCW graphs. `False` values therefore should not be used to represent absent edges.\n",
    "\n",
    "### Understanding the computation \n",
    "\n",
    "To understand what these persistence diagrams are telling us about the input weighted graphs, we briefly explain the **clique complex (or flag complex) filtration** procedure underlying the computations in `VietorisRipsPersistence` when `metric=\"precomputed\"`, via an example.\n",
    "\n",
    "Let us start with a special case of a weighted graph with adjacency matrix as follows:\n",
    "- the diagonal entries (\"vertex weights\") are all zero;\n",
    "- all off-diagonal entries (edge weights) are non-negative;\n",
    "- some edge weights are infinite (or very very large).\n",
    "\n",
    "We can lay such a graph on the plane to visualise it, drawing only the finite edges:\n",
    "![](https://raw.githubusercontent.com/ulupo/giotto-tda/examples/flagser_notebook/examples/images/weighted_graph.png)\n",
    "\n",
    "The procedure can be explained as follows: we let a parameter $\\varepsilon$ start at 0, and as we increase it all the way to infinity we keep considering the instantaneous subgraphs made of a) all the vertices in the original graph, and b) those edges whose weight is less than or equal to the current $\\varepsilon$. We also promote these subgraphs to more general structures called **(simplicial) complexes** that, alongside vertices and edges, also possess $k$**-simplices**, i.e. selected subsets of $k + 1$ vertices (a 2-simplex is an abstract \"triangle\", a 3-simplex an abstract \"tetrahedron\", etc). Our criterion is this: for each integer $k \\geq 2$, all $(k + 1)$-cliques in each instantaneous subgraph are declared to be the $k$-simplices of the subgraph's associated complex. By definition, the $0$-simplices are the vertices and the $1$-simplices are the available edges.\n",
    "\n",
    "As $\\varepsilon$ increases from 0 (included) to infinity, we record the following information:\n",
    "1. How many new **connected components** are created because of the appearance of vertices (in this example, all vertices \"appear\" in one go at $\\varepsilon = 0$, by definition!), or merge because of the appearance of new edges.\n",
    "2. How many new 1-dimensional \"holes\", 2-dimensional \"cavities\", or more generally $d$-dimensional **voids** are created in the instantaneous complex. A hole, cavity, or $d$-dimensional void is such only if there is no collection of \"triangles\", \"tetrahedra\", or $(d + 1)$-simplices which the void is the \"boundary\" of. *Note*: Although the edges of a triangle *alone* \"surround a hole\", these cannot occur in our particular construction because the \"filling\" triangle is also declared present in the complex when all its edges are.\n",
    "3. How many $d$-dimensional voids which were present at earlier values of $\\epsilon$ are \"filled\" by $(d + 1)$-simplices which just appear.\n",
    "\n",
    "This process of recording the full topological history of the graph across all edge weights is called (Vietoris-Rips) **persistent homology**!\n",
    "\n",
    "Let us start at $\\varepsilon = 0$: Some edges had zero weight in our graph, so they already appear!\n",
    "![](https://raw.githubusercontent.com/ulupo/giotto-tda/examples/flagser_notebook/examples/images/clique_complex_0_small.png)\n",
    "There are 9 connected components, and nothing much else.\n",
    "\n",
    "Up to and including $\\varepsilon = 2$, a few more edges are added which make some of the connected components merge together but do not create any hole, triangles, or higher cliques. Let us look at $\\varepsilon = 3$:\n",
    "![](https://raw.githubusercontent.com/ulupo/giotto-tda/examples/flagser_notebook/examples/images/clique_complex_3_small.png)\n",
    "The newly arrived edges reduce the number of connected components further, but more interestingly they create a 1D hole!\n",
    "\n",
    "As an example of a \"higher\"-simplex, at $\\varepsilon = 4$ we get our first triangle:\n",
    "![](https://raw.githubusercontent.com/ulupo/giotto-tda/examples/flagser_notebook/examples/images/clique_complex_4_small.png)\n",
    "\n",
    "At $\\varepsilon = 5$, our 1D hole is filled:\n",
    "![](https://raw.githubusercontent.com/ulupo/giotto-tda/examples/flagser_notebook/examples/images/clique_complex_5_small.png)\n",
    "\n",
    "At $\\varepsilon = 8$, two new 1D holes appear:\n",
    "![](https://raw.githubusercontent.com/ulupo/giotto-tda/examples/flagser_notebook/examples/images/clique_complex_8_small.png)\n",
    "\n",
    "Finally, at $\\varepsilon = 9$, some more connected components merge, but no new voids are either created or destroyed:\n",
    "![](https://raw.githubusercontent.com/ulupo/giotto-tda/examples/flagser_notebook/examples/images/clique_complex_9_small.png)\n",
    "\n",
    "We can stop as we have reached the maximum value of $\\varepsilon$, beyond which nothing will change: there is only one connected component left, but there are also two 1D holes which will never get filled.\n",
    "\n",
    "`VietorisRipsPersistence(metric=\"precomputed\")` on the original graph's adjacency matrix would return the result of the computation like this:"
   ]
  },
  {
   "cell_type": "code",
   "execution_count": null,
   "metadata": {},
   "outputs": [],
   "source": [
    "persistence_diagrams = np.array([[[0., 1., 0],\n",
    "                                  [0., 2., 0],\n",
    "                                  [0., 2., 0],\n",
    "                                  [0., 3., 0],\n",
    "                                  [0., 4., 0],\n",
    "                                  [0., 5., 0],\n",
    "                                  [0., 6., 0],\n",
    "                                  [0., 7., 0],\n",
    "                                  [3., 5., 1],\n",
    "                                  [8., np.inf, 1],\n",
    "                                  [8., np.inf, 1]]])"
   ]
  },
  {
   "cell_type": "markdown",
   "metadata": {},
   "source": [
    "It is a 3D array simply because `giotto-tda` processes inputs in batches, as we saw above, and we imagine we passed a list/array of graphs the first of which is the one in the example. So `persistence_diagrams[0]` contains the result of our persistent homology computation, and it is a 2D array interpreted as follows:\n",
    "- The first and second columns contains the $\\varepsilon$ values corresponding to the \"birth\" and \"death\" (respectively) of a single topological feature.\n",
    "- The third column tells us what \"**homology dimension**\" this feature is in: connected components are 0-dimensional features, and $d$-dimensional voids are $d$-dimensional features.\n",
    "\n",
    "If we make one scatter plot per available homology dimension, and plot births and deaths as x- and y-coordinates of points in 2D, we end up with the representation known as a **persistence diagram**:"
   ]
  },
  {
   "cell_type": "code",
   "execution_count": null,
   "metadata": {},
   "outputs": [],
   "source": [
    "plot_diagram(persistence_diagrams[0])"
   ]
  },
  {
   "cell_type": "markdown",
   "metadata": {},
   "source": [
    "*Small aside*: You would be correct to expect an additional row `[0, np.inf, 0]` representing one connected component which lives forever. By convention, since such a row would always be present under this construction and hence give no useful information, all transformers discussed in this notebook remove this feature from the output.\n",
    "\n",
    "#### Advanced discussion: Non-zero vertex weights and negative edge weights\n",
    "\n",
    "Although we introcuded the simplifying assumptions that the diagonal entries of the input adjacency matrix is zero, and that all edge weights are non-negative, for the procedure to make sense we need a lot less. Namely:\n",
    "- The diagonal entry corresponding to a vertex is always interpreted as the value of the parameter $\\varepsilon$ at which that vertex \"appears\". Making all these entries equal to zero means, as in the example above, that all vertices appear simultaneously at $\\varepsilon = 0$. Generally however, different vertices can be declared to \"appear\" at different values, and even at negative ones.\n",
    "- The only constraint on each edge weight is that it should be no less than the \"vertex weight\" of either of its boundary vertices.\n",
    "\n",
    "As a simple example, subtracting a constant from *all* entries of an adjacency matrix has the effect of shifting all birth and death values by the same constant.\n",
    "\n",
    "### The \"special case\" of point clouds\n",
    "\n",
    "The use of `VietorisRipsPersistence` to compute multi-scale topological features of concrete point clouds in Euclidean space is covered briefly in Section 1.2 of [Plotting in `giotto-tda`](https://giotto-ai.github.io/gtda-docs/latest/notebooks/plotting_api.html), and more in-depth in [Case study: Classification of shapes](https://giotto-ai.github.io/gtda-docs/latest/notebooks/classifying_shapes.html) and in [Can two-dimensional topological voids exist in two dimensions?](https://giotto-ai.github.io/gtda-docs/latest/notebooks/voids_on_the_plane.html)\n",
    "\n",
    "The Vietoris-Rips procedure for point clouds is often depicted as a process of growing balls of ever increasing radius $r$ around each point, and drawing edges between two points whenever their two respective $r$-balls touch for the first time. Just as in our clique complex construction above, cliques present at radius $r$ are declared to be higher-dimensional simplices in the instantaneous complex:\n",
    "![](https://miro.medium.com/max/1200/1*w3BiQI1OX93KXcezctRQTQ.gif \"segment\")\n",
    "And just as in the case of weighted graphs, we record the appearance/disappearance of connected components and voids as we keep increasing $r$.\n",
    "\n",
    "The case of point clouds can actually be thought of as a special case of the case of FCW graphs. Namely, if:\n",
    "1. we regard each point in the cloud as an abstract vertex in a graph,\n",
    "2. we compute the square matrix of pairwise (Euclidean or other) distances between points in the cloud, and\n",
    "3. we run the procedure explained above with $\\varepsilon$ defined as $2r$,\n",
    "then we compute exactly the \"topological summary\" of the point cloud.\n",
    "\n",
    "So, in `giotto-tda`, we can do:"
   ]
  },
  {
   "cell_type": "code",
   "execution_count": null,
   "metadata": {},
   "outputs": [],
   "source": [
    "# 1 point cloud with 20 points in 5 dimensions\n",
    "point_cloud = rng.random((20, 5))\n",
    "# Corresponding matrix of Euclidean pairwise distances\n",
    "pairwise_distances = squareform(pdist(point_cloud))\n",
    "\n",
    "# Default parameter for `metric` is \"euclidean\"\n",
    "X_vr_pc = VietorisRipsPersistence().fit_transform([point_cloud])\n",
    "\n",
    "X_vr_graph = VietorisRipsPersistence(metric=\"precomputed\").fit_transform([pairwise_distances])\n",
    "\n",
    "assert np.array_equal(X_vr_pc, X_vr_graph)"
   ]
  },
  {
   "cell_type": "markdown",
   "metadata": {},
   "source": [
    "### Unweighted graphs and chaining with `GraphGeodesicDistance`\n",
    "\n",
    "What if, as is the case in many applications, our graphs have sparse connections and are unweighted?\n",
    "\n",
    "In `giotto-tda`, there are two possibilities:\n",
    "1. One can encode the graphs as adjacency matrices of non-fully connected weighted graphs, where all weights corresponding to edges which are present are equal to `1.` (or any other positive constant). See section ***Non-fully connected weighted graphs*** above for the different encoding conventions for sparse and dense matrices.\n",
    "2. One can preprocess the unweighted graph via [`GraphGeodesicDistance`](https://giotto-ai.github.io/gtda-docs/latest/modules/generated/graphs/processing/gtda.graphs.GraphGeodesicDistance.html) to obtain a FCW graph where edge ij has as weight the length of the shortest path from vertex i to vertex j (and `np.inf` if no path exists between the two vertices in the original graph).\n",
    "\n",
    "We now explore the difference between the two approaches in the simple example of a circle graph."
   ]
  },
  {
   "cell_type": "code",
   "execution_count": null,
   "metadata": {},
   "outputs": [],
   "source": [
    "# Helper functoin -- directed circles will be needed later\n",
    "def make_circle_adjacency(n_vertices, directed=False):\n",
    "    weights = np.ones(n_vertices)\n",
    "    rows = np.arange(n_vertices)\n",
    "    columns = np.arange(1, n_vertices + 1) % n_vertices\n",
    "    directed_adjacency = csr_matrix((weights, (rows, columns)))\n",
    "    if not directed:\n",
    "        return directed_adjacency + directed_adjacency.T\n",
    "    return directed_adjacency\n",
    "\n",
    "n_vertices = 10\n",
    "undirected_circle = make_circle_adjacency(n_vertices)"
   ]
  },
  {
   "cell_type": "markdown",
   "metadata": {},
   "source": [
    "We can produce an SVG of the circle using `python-igraph`, and display it."
   ]
  },
  {
   "cell_type": "code",
   "execution_count": null,
   "metadata": {},
   "outputs": [],
   "source": [
    "row, col = undirected_circle.nonzero()\n",
    "graph = Graph(n=n_vertices, edges=list(zip(row, col)), directed=False)\n",
    "fname = \"undirected_circle.svg\"\n",
    "graph.write_svg(fname)\n",
    "display(SVG(filename=fname))\n",
    "\n",
    "## Note: if `pycairo` is installed, we can avoid dumping files and draw directly in the notebook\n",
    "# from igraph import plot\n",
    "# plot(graph)"
   ]
  },
  {
   "cell_type": "markdown",
   "metadata": {},
   "source": [
    "Approach 1 means passing the graph as is:"
   ]
  },
  {
   "cell_type": "code",
   "execution_count": null,
   "metadata": {},
   "outputs": [],
   "source": [
    "VietorisRipsPersistence(metric=\"precomputed\").fit_transform_plot([undirected_circle]);"
   ]
  },
  {
   "cell_type": "markdown",
   "metadata": {},
   "source": [
    "The circular nature has been captured by the single point in homology dimension 1 (\"H_1\") which is born at 1 and lives forever.\n",
    "\n",
    "Compare with what we observe when preprocessing first with `GraphGeodesicDistance`:"
   ]
  },
  {
   "cell_type": "code",
   "execution_count": null,
   "metadata": {},
   "outputs": [],
   "source": [
    "X_ggd = GraphGeodesicDistance(directed=False, unweighted=True).fit_transform([undirected_circle])\n",
    "VietorisRipsPersistence(metric=\"precomputed\").fit_transform_plot(X_ggd);"
   ]
  },
  {
   "cell_type": "markdown",
   "metadata": {},
   "source": [
    "There is still a \"long-lived\" topological feature in dimension 1, but this time its death value is finite. This is because, at some point, we have enough triangles to completely fill the 1D hole. Indeed, when the number of vertices/edges in the circle is large, the death value is around one third of this number. So, relative to the procedure without `GraphGeodesicDistance`, the death value now gives additional information about the *size* of the circle graph!\n",
    "\n",
    "Suppose our graph contains two disconnected circles of different sizes:"
   ]
  },
  {
   "cell_type": "code",
   "execution_count": null,
   "metadata": {},
   "outputs": [],
   "source": [
    "n_vertices_small, n_vertices_large = n_vertices, 2 * n_vertices\n",
    "undirected_circle_small = make_circle_adjacency(n_vertices_small)\n",
    "undirected_circle_large = make_circle_adjacency(n_vertices_large)\n",
    "row_small, col_small = undirected_circle_small.nonzero()\n",
    "row_large, col_large = undirected_circle_large.nonzero()\n",
    "row = np.concatenate([row_small, row_large + n_vertices])\n",
    "col = np.concatenate([col_small, col_large + n_vertices])\n",
    "data = np.concatenate([undirected_circle_small.data, undirected_circle_large.data])\n",
    "two_undirected_circles = csr_matrix((data, (row, col)))\n",
    "\n",
    "graph = Graph(n=n_vertices_small + n_vertices_large, edges=list(zip(row, col)), directed=False)\n",
    "fname = \"two_undirected_circles.svg\"\n",
    "graph.write_svg(fname)\n",
    "display(SVG(filename=fname))"
   ]
  },
  {
   "cell_type": "markdown",
   "metadata": {},
   "source": [
    "Again, the first procedure just says \"there are two one-dimensional holes\"."
   ]
  },
  {
   "cell_type": "code",
   "execution_count": null,
   "metadata": {},
   "outputs": [],
   "source": [
    "VietorisRipsPersistence(metric=\"precomputed\").fit_transform_plot([two_undirected_circles]);"
   ]
  },
  {
   "cell_type": "markdown",
   "metadata": {},
   "source": [
    "The second procedure is again much more informative, yielding a persistence diagram with two points in homology dimension 1 with different finite deaths, each corresponding to one of the two circles:"
   ]
  },
  {
   "cell_type": "code",
   "execution_count": null,
   "metadata": {},
   "outputs": [],
   "source": [
    "X_ggd = GraphGeodesicDistance(directed=False, unweighted=True).fit_transform([two_undirected_circles])\n",
    "VietorisRipsPersistence(metric=\"precomputed\").fit_transform_plot(X_ggd);"
   ]
  },
  {
   "cell_type": "markdown",
   "metadata": {},
   "source": [
    "## Directed graphs and `FlagserPersistence`\n",
    "\n",
    "Together with the companion package `pyflagser` ([source code](https://github.com/giotto-ai/pyflagser), [API reference](https://docs-pyflagser.giotto.ai/)), `giotto-tda` allows the extraction of topological features from *directed* (weighted or unweighted) graphs. "
   ]
  },
  {
   "cell_type": "code",
   "execution_count": null,
   "metadata": {},
   "outputs": [],
   "source": [
    "homology_dimensions = [0, 1, 2]"
   ]
  },
  {
   "cell_type": "code",
   "execution_count": null,
   "metadata": {},
   "outputs": [],
   "source": [
    "row, col = directed_circle.nonzero()\n",
    "graph = Graph(n=n_vertices, edges=list(zip(row, col)), directed=True)\n",
    "fname = \"graph.svg\"\n",
    "graph.write_svg(fname)\n",
    "display(SVG(filename=fname))"
   ]
  },
  {
   "cell_type": "code",
   "execution_count": null,
   "metadata": {
    "scrolled": true
   },
   "outputs": [],
   "source": [
    "directed_circle_gd = GraphGeodesicDistance(directed=True).fit_transform([directed_circle])\n",
    "undirected_circle_gd = GraphGeodesicDistance(directed=False).fit_transform([directed_circle])"
   ]
  },
  {
   "cell_type": "code",
   "execution_count": null,
   "metadata": {},
   "outputs": [],
   "source": [
    "FP = FlagserPersistence(directed=True, homology_dimensions=homology_dimensions)\n",
    "FP.fit_transform_plot(directed_circle_gd);"
   ]
  },
  {
   "cell_type": "code",
   "execution_count": null,
   "metadata": {},
   "outputs": [],
   "source": [
    "FP = FlagserPersistence(directed=False, homology_dimensions=homology_dimensions)\n",
    "FP.fit_transform_plot(undirected_circle_gd);\n",
    "\n",
    "# # Alternative\n",
    "# VR = VietorisRipsPersistence(metric=\"precomputed\", homology_dimensions=homology_dimensions)\n",
    "# VR.fit_transform_plot(undirected_circle_gd);"
   ]
  },
  {
   "cell_type": "code",
   "execution_count": null,
   "metadata": {},
   "outputs": [],
   "source": [
    "rows_flipped = np.concatenate([row[::2], col[1::2]])\n",
    "columns_flipped = np.concatenate([col[::2], row[1::2]])\n",
    "weights = np.ones(n_vertices)\n",
    "directed_circle_flipped = csr_matrix((weights, (rows_flipped, columns_flipped)), shape=(n_vertices, n_vertices))\n",
    "\n",
    "graph = Graph(n=n_vertices, edges=list(zip(rows_flipped, columns_flipped)), directed=True)\n",
    "fname = \"graph.svg\"\n",
    "graph.write_svg(fname)\n",
    "display(SVG(filename=fname))"
   ]
  },
  {
   "cell_type": "code",
   "execution_count": null,
   "metadata": {},
   "outputs": [],
   "source": [
    "directed_circle_flipped_gd = GraphGeodesicDistance(directed=True).fit_transform([directed_circle_flipped])\n",
    "FP = FlagserPersistence(directed=True, homology_dimensions=homology_dimensions)\n",
    "FP.fit_transform_plot(directed_circle_flipped_gd);"
   ]
  },
  {
   "cell_type": "code",
   "execution_count": null,
   "metadata": {},
   "outputs": [],
   "source": [
    "rows_fixed_point = np.concatenate([row[:n_vertices // 2], col[n_vertices // 2:]])\n",
    "columns_fixed_point = np.concatenate([col[:n_vertices // 2], row[n_vertices // 2:]])\n",
    "weights = np.ones(n_vertices)\n",
    "directed_circle_fixed_point = csr_matrix((weights, (rows_fixed_point, columns_fixed_point)), shape=(n_vertices, n_vertices))\n",
    "\n",
    "graph = Graph(n=n_vertices, edges=list(zip(rows_fixed_point, columns_fixed_point)), directed=True)\n",
    "fname = \"graph.svg\"\n",
    "graph.write_svg(fname)\n",
    "display(SVG(filename=fname))"
   ]
  },
  {
   "cell_type": "code",
   "execution_count": null,
   "metadata": {},
   "outputs": [],
   "source": [
    "directed_circle_fixed_point_gd = GraphGeodesicDistance(directed=True).fit_transform([directed_circle_fixed_point])\n",
    "FP = FlagserPersistence(directed=True, homology_dimensions=homology_dimensions)\n",
    "FP.fit_transform_plot(directed_circle_fixed_point_gd);"
   ]
  },
  {
   "cell_type": "markdown",
   "metadata": {},
   "source": [
    "## Where to next?\n",
    "\n",
    "- [Topological feature extraction using `VietorisRipsPersistence` and `PersistenceEntropy`](https://giotto-ai.github.io/gtda-docs/latest/notebooks/vietoris_rips_quickstart.html) which treats the \"special case\" of point clouds (see below).\n",
    "- Lorenz attractor.\n",
    "- gtda.graphs and gtda.diagrams#\n"
   ]
  },
  {
   "cell_type": "code",
   "execution_count": null,
   "metadata": {},
   "outputs": [],
   "source": []
  }
 ],
 "metadata": {
  "kernelspec": {
   "display_name": "Python 3",
   "language": "python",
   "name": "python3"
  },
  "language_info": {
   "codemirror_mode": {
    "name": "ipython",
    "version": 3
   },
   "file_extension": ".py",
   "mimetype": "text/x-python",
   "name": "python",
   "nbconvert_exporter": "python",
   "pygments_lexer": "ipython3",
   "version": "3.8.3"
  }
 },
 "nbformat": 4,
 "nbformat_minor": 4
}
